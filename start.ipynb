{
 "cells": [
  {
   "cell_type": "code",
   "execution_count": null,
   "metadata": {},
   "outputs": [],
   "source": [
    "!python ./yolov5/detect.py --weights ./yolov5/runs/train/exp/weights/best_fruit_quality.pt --img 640 --conf 0.25 --source ./Good.jpg"
   ]
  }
 ],
 "metadata": {
  "kernelspec": {
   "display_name": "Python 3.8.3 64-bit",
   "language": "python",
   "name": "python3"
  },
  "language_info": {
   "codemirror_mode": {
    "name": "ipython",
    "version": 3
   },
   "file_extension": ".py",
   "mimetype": "text/x-python",
   "name": "python",
   "nbconvert_exporter": "python",
   "pygments_lexer": "ipython3",
   "version": "3.8.3"
  },
  "orig_nbformat": 4,
  "vscode": {
   "interpreter": {
    "hash": "854d04ed5108b516d938870d9f60a01e0c8b42f060c45b70e9678fb3276dbec0"
   }
  }
 },
 "nbformat": 4,
 "nbformat_minor": 2
}
